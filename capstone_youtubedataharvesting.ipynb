{
  "nbformat": 4,
  "nbformat_minor": 0,
  "metadata": {
    "colab": {
      "provenance": []
    },
    "kernelspec": {
      "name": "python3",
      "display_name": "Python 3"
    },
    "language_info": {
      "name": "python"
    }
  },
  "cells": [
    {
      "cell_type": "code",
      "execution_count": null,
      "metadata": {
        "id": "b-pJooMjimvc"
      },
      "outputs": [],
      "source": [
        "def getting_comments_in_videos(youtube, video_ids):\n",
        "    all_comments = {}\n",
        "\n",
        "    for video_id in video_ids:\n",
        "        try:\n",
        "            request = youtube.commentThreads().list(\n",
        "                part=\"snippet,replies\",\n",
        "                videoId=video_id\n",
        "            )\n",
        "            response = request.execute()\n",
        "            comments_in_video = []\n",
        "\n",
        "            for comment in response.get('items', []):\n",
        "                snippet = comment.get('snippet', {})\n",
        "                topLevelComment = snippet.get('topLevelComment', {})\n",
        "                topLevelSnippet = topLevelComment.get('snippet', {})\n",
        "                text = topLevelSnippet.get('textOriginal', None)\n",
        "\n",
        "                if text is not None:\n",
        "                    comments_in_video.append(text)\n",
        "\n",
        "            comments_in_video_information = {\n",
        "                'video_id': video_id,\n",
        "                'comments': comments_in_video\n",
        "            }\n",
        "\n",
        "            all_comments.append(comments_in_video_information)\n",
        "\n",
        "        except:\n",
        "          print(f\"could not find the comments for this video alone{comments_in_video_information}\")\n",
        "\n",
        "\n",
        "    #return pd.DataFrame(all_comments)\n",
        "    return(all_comments)"
      ]
    },
    {
      "cell_type": "markdown",
      "source": [],
      "metadata": {
        "id": "pgPHqj5-jTpg"
      }
    },
    {
      "cell_type": "code",
      "source": [
        "def give_whole_video_details(youtube, channel_ids, playlist_ids, video_ids):\n",
        "    channel_details = getting_channel_stats(youtube, channel_ids)\n",
        "    playlist_id = getting_video_ids(youtube, playlist_ids)\n",
        "    video_info = get_video_details(youtube, video_ids)\n",
        "    comments = getting_comments_in_videos(youtube, video_ids)\n",
        "\n",
        "    total_details = [{f\"Video_Id_{count}\": {**info, \"comments\": comment}} for count, (info, comment) in enumerate(zip(video_info.values(), comments.values()), start=1)]\n",
        "\n",
        "    output = {**channel_details, **total_details}\n",
        "\n",
        "    return output\n"
      ],
      "metadata": {
        "id": "EVIkEQM6iv-V"
      },
      "execution_count": null,
      "outputs": []
    },
    {
      "cell_type": "code",
      "source": [
        "#This function is used to give all the details of the below functions\n",
        "#This function gives statistics and details of the channels using the api and channelids\n",
        "#This function gives the video IDs from the specified playlists\n",
        "#This function gives the details and statistics of the videos\n",
        "# This function gives  the comments for each video"
      ],
      "metadata": {
        "id": "iByFqFsujj7o"
      },
      "execution_count": null,
      "outputs": []
    },
    {
      "cell_type": "code",
      "source": [
        "# mongodb connection\n",
        "\n",
        "client = pymongo.MongoClient(\"your connection string\")\n",
        "upload=give_whole_video_details(API_KEY,channel_ids)\n",
        "youtube_db= youtube_obj.(\"database_name\")  #database in the mongodb\n",
        "collection = youtube_db.(\"collection_name\") # collection\n",
        "\n",
        "try:\n",
        "     existing_document=collection.find_one({\"Channel_Name.Channel_Ids\": channel_ids})\n",
        "   if existing_document is None:\n",
        "       collection.insert_one(upload)\n",
        "             print(\"Data uploaded successfully\")\n",
        "    else:\n",
        "        print(\"Channel ID already exists\")\n",
        "\n",
        "   except pymongo.errors.PyMongoError as e:\n",
        "    print(f\"Error occurred while uploading the data: \")\n",
        "  finally:\n",
        "           youtube_obj.close()"
      ],
      "metadata": {
        "id": "S8O35JjVjmTZ"
      },
      "execution_count": null,
      "outputs": []
    }
  ]
}