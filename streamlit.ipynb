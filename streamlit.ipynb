{
  "nbformat": 4,
  "nbformat_minor": 0,
  "metadata": {
    "colab": {
      "provenance": []
    },
    "kernelspec": {
      "name": "python3",
      "display_name": "Python 3"
    },
    "language_info": {
      "name": "python"
    }
  },
  "cells": [
    {
      "cell_type": "code",
      "execution_count": null,
      "metadata": {
        "id": "a8UdarVlmZQO"
      },
      "outputs": [],
      "source": [
        "import streamlit as st"
      ]
    },
    {
      "cell_type": "code",
      "source": [
        "from capstone_youtubedataharvesting import give_whole_video_details\n",
        "from SQL_questions import *  # * refers to import all datas"
      ],
      "metadata": {
        "id": "3pJ_K3JrmcjX"
      },
      "execution_count": null,
      "outputs": []
    },
    {
      "cell_type": "code",
      "source": [
        "st.set_page_config(page_title=\"YouTube Data Harvesting\", page_icon=\":play:\", layout=\"wide\")\n",
        "st.title(\":red[YouTube Data Harvesting]\")\n",
        "def main():\n",
        "\n",
        "    left_column, right_column = st.columns(2)\n",
        "    with left_column:\n",
        "        API_Key = st.text_input('Enter the Valid API Key: ')\n",
        "        channel_ids = st.text_input('Enter the Channel ID: ')\n",
        "        col1, col2 = st.columns(2)\n",
        "        if col1.button(\"Get Json\"):\n",
        "            try:\n",
        "                json_output = give_whole_video_details(API_Key, channel_ids)\n",
        "                with right_column:\n",
        "                    st.json(json_output)\n",
        "            except:\n",
        "                st.error(\"An error occurred. Please check your API Key or Channel ID.\")\n",
        "        if col2.button(\"Get Data\"):\n",
        "            try:\n",
        "    data_output = give_whole_video_details(API_Key, channel_ids, playlist_ids, video_ids)\n",
        "    data = \"\"\n",
        "\n",
        "    def convert_dict_to_text(dictionary, indent=0):\n",
        "        data = \"\"\n",
        "        for key, value in dictionary.items():\n",
        "            if isinstance(value, dict):\n",
        "                data += f\"{'    ' * indent}{key}:\\n\"\n",
        "                data += convert_dict_to_text(value, indent + 1)\n",
        "            else:\n",
        "                data += f\"{'    ' * indent}{key}: {value}\\n\"\n",
        "        return data\n",
        "\n",
        "    data = convert_dict_to_text(data_output)\n",
        "    with right_column:\n",
        "        st.text(data)\n",
        "\n",
        "except Exception as e:\n",
        "    st.error(\"An error occurred. Please check your API Key or Channel ID.\")\n",
        "\n",
        "\n",
        "    with left_column:\n",
        "        st.write(\"SELECTIVE 10 QUESTIONS\")\n",
        "    questions = st.selectbox(\"Select the Question\", ('Tap to view',\n",
        "                                                     '1. What are the names of all the videos and their corresponding channels?',\n",
        "                                                     '2. Which channels have the most number of videos, and how many videos do they have?',\n",
        "                                                     '3. What are the top 10 most viewed videos and their respective channels?',\n",
        "                                                     '4. How many comments were made on each video, and what are their corresponding video names?',\n",
        "                                                     '5. Which videos have the highest number of likes, and what are their corresponding channel names?',\n",
        "                                                     '6. What is the total number of likes and dislikes for each video, and what are their corresponding video names?',\n",
        "                                                     '7. What is the total number of views for each channel, and what are their corresponding channel names?',\n",
        "                                                     '8. What are the names of all the channels that have published videos in the year 2022?',\n",
        "                                                     '9. Which videos have the highest number of comments, and what are their corresponding channel names?',\n",
        "                                                     '10. What are the total number of views for each video?'))\n",
        "\n",
        "    if st.button(\"View data\"):\n",
        "        if questions == '1. What are the names of all the videos and their corresponding channels?':\n",
        "            st.dataframe(question1())\n",
        "\n",
        "        elif questions == '2. Which channels have the most number of videos, and how many videos do they have?':\n",
        "            st.dataframe(question2())\n",
        "\n",
        "        elif questions == '3. What are the top 10 most viewed videos and their respective channels?':\n",
        "            st.dataframe(question3())\n",
        "\n",
        "        elif questions == '4. How many comments were made on each video, and what are their corresponding video names?':\n",
        "            st.dataframe(question4())\n",
        "\n",
        "        elif questions == '5. Which videos have the highest number of likes, and what are their corresponding channel names?':\n",
        "            st.dataframe(question5())\n",
        "\n",
        "        elif questions == '6. What is the total number of likes and dislikes for each video, and what are their corresponding video names?':\n",
        "            st.dataframe(question6())\n",
        "\n",
        "        elif questions == '7. What is the total number of views for each channel, and what are their corresponding channel names?':\n",
        "            st.dataframe(question7())\n",
        "\n",
        "        elif questions == '8. What are the names of all the channels that have published videos in the year 2022?':\n",
        "            st.dataframe(question8())\n",
        "\n",
        "        elif questions == '9. Which videos have the highest number of comments, and what are their corresponding channel names?':\n",
        "            st.dataframe(question9())\n",
        "\n",
        "        elif questions == '10. What are the total number of views for each video?':\n",
        "            st.dataframe(question10())\n",
        "\n",
        "\n",
        "if __name__ == \"__main__\":\n",
        "    main()"
      ],
      "metadata": {
        "id": "JKCPJHqlmxjg"
      },
      "execution_count": null,
      "outputs": []
    }
  ]
}